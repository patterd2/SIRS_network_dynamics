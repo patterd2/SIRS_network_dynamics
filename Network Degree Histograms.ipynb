{
 "cells": [
  {
   "cell_type": "markdown",
   "metadata": {},
   "source": [
    "## Household Contact"
   ]
  },
  {
   "cell_type": "code",
   "execution_count": 16,
   "metadata": {},
   "outputs": [
    {
     "data": {
      "image/png": "[encoded data removed]",
      "text/plain": [
       "<Figure size 432x288 with 1 Axes>"
      ]
     },
     "metadata": {
      "needs_background": "light"
     },
     "output_type": "display_data"
    }
   ],
   "source": [
    "import matplotlib.pyplot as plt\n",
    "a= [1,2,3,4,5,6,7]\n",
    "b= [0.2818, 0.3483, 0.1505, 0.1266, 0.058, 0.0227, 0.012]\n",
    "plt.hist(a,7, weights=b)\n",
    "plt.xlabel('Houshold Number of Contact')\n",
    "plt.ylabel('Population Frequency')\n",
    "plt.show()"
   ]
  },
  {
   "cell_type": "markdown",
   "metadata": {},
   "source": [
    "## Non-household Contact (Poisson)"
   ]
  },
  {
   "cell_type": "code",
   "execution_count": 20,
   "metadata": {},
   "outputs": [
    {
     "name": "stdout",
     "output_type": "stream",
     "text": [
      "Network Distribution of Poisson Distribution\n"
     ]
    },
    {
     "data": {
      "image/png": "[encoded data removed]",
      "text/plain": [
       "<Figure size 432x288 with 1 Axes>"
      ]
     },
     "metadata": {
      "needs_background": "light"
     },
     "output_type": "display_data"
    }
   ],
   "source": [
    "import networkx as nx\n",
    "import numpy as np\n",
    "import matplotlib.pyplot as plt\n",
    "N = 600 # size of the network\n",
    "lam = 18 # Poisson parameter\n",
    "### Note you can put any distribution you want here for the sequence, we can try some different things here\n",
    "sequence = np.random.poisson(lam, N) # N.B the sum of this must be an even number, regenerate if not\n",
    "while np.mod(np.sum(sequence),2) != 0:\n",
    "    sequence = np.random.poisson(lam, N)\n",
    "#print(sequence)\n",
    "G = nx.configuration_model(sequence)\n",
    "len(G)\n",
    "actual_degrees = [d for v, d in G.degree()]\n",
    "G = nx.Graph(G)\n",
    "G.remove_edges_from(nx.selfloop_edges(G))\n",
    "\n",
    "def plot_degree_dist(G): # to produce the degree node distribution of a graph\n",
    "    num_nodes = len(G.nodes())\n",
    "    degrees = [G.degree(n) for n in G.nodes()]\n",
    "    plt.hist(degrees,5+int(np.floor(np.sqrt(num_nodes))))\n",
    "    plt.xlabel(\"Time\")\n",
    "    plt.ylabel(\"\")\n",
    "    plt.show()\n",
    "print('Network Distribution of Poisson Distribution')\n",
    "plot_degree_dist(G)  "
   ]
  },
  {
   "cell_type": "markdown",
   "metadata": {},
   "source": [
    "## Non-household Contact (Power Law)"
   ]
  },
  {
   "cell_type": "code",
   "execution_count": 7,
   "metadata": {},
   "outputs": [
    {
     "name": "stdout",
     "output_type": "stream",
     "text": [
      "Network Distribution of Power Law Distribution\n"
     ]
    },
    {
     "data": {
      "image/png": "[encoded data removed]",
      "text/plain": [
       "<Figure size 432x288 with 1 Axes>"
      ]
     },
     "metadata": {
      "needs_background": "light"
     },
     "output_type": "display_data"
    }
   ],
   "source": [
    "import numpy as np\n",
    "import networkx as nx\n",
    "import matplotlib.pyplot as plt\n",
    "from matplotlib.pyplot import *\n",
    "import time\n",
    "import numpy.random as ra\n",
    "from numpy import linalg as LA # needed to compute eigenvalues, call w1, v1 = LA.eig(S_con1), w1 has the eigenvalues\n",
    "import scipy.stats as stats\n",
    "\n",
    "def plot_degree_dist(G): # to produce the degree node distribution of a graph\n",
    "    num_nodes = len(G.nodes())\n",
    "    degrees = [G.degree(n) for n in G.nodes()]\n",
    "    plt.hist(degrees,5+int(np.floor(np.sqrt(num_nodes))))\n",
    "    plt.show()\n",
    "\n",
    "N = 1000\n",
    "G = nx.powerlaw_cluster_graph(N, 15, 0.1)\n",
    "figure() \n",
    "print('Network Distribution of Power Law Distribution')\n",
    "plot_degree_dist(G)\n",
    "#print(np.sum(nx.adjacency_matrix(G))/N)\n",
    "#print(nx.adjacency_matrix(G))\n",
    "G = nx.to_numpy_matrix(G)\n"
   ]
  },
  {
   "cell_type": "code",
   "execution_count": null,
   "metadata": {},
   "outputs": [],
   "source": []
  }
 ],
 "metadata": {
  "kernelspec": {
   "display_name": "Python 3",
   "language": "python",
   "name": "python3"
  },
  "language_info": {
   "codemirror_mode": {
    "name": "ipython",
    "version": 3
   },
   "file_extension": ".py",
   "mimetype": "text/x-python",
   "name": "python",
   "nbconvert_exporter": "python",
   "pygments_lexer": "ipython3",
   "version": "3.8.3"
  }
 },
 "nbformat": 4,
 "nbformat_minor": 4
}
